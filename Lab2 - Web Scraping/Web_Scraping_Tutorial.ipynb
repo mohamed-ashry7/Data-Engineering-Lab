{
 "cells": [
  {
   "cell_type": "markdown",
   "metadata": {
    "id": "0wAlzVJFCtTV"
   },
   "source": [
    "# Web Scraping\n",
    "\n",
    "## Structure\n",
    "1. HTML pages\n",
    "2. Chrome DevTools\n",
    "3. Web scraping packages\n",
    "    * BeautifulSoup\n",
    "        * Wuzzuf Exercise\n",
    "        * Amazon Exercise\n",
    "        * Visualizing some data\n",
    "4. Ethical considerations of web scraping\n",
    "\n",
    "## What you will be able to do after the tutorial\n",
    "* Inspect an HTML page and identify which parts you want to scrape.\n",
    "* Scrape web pages with `requests` and `BeautifulSoup`.\n",
    "* Judge when web scraping is the most suitable approach and what you should consider before doing so (be a good citizen of the Internet).\n",
    "\n",
    "## HTML page structure\n",
    "\n",
    "**Hypertext Markup Language (HTML)** is the standard markup language for documents designed to be displayed in a web browser. HTML describes the structure of a web page and it can be used with **Cascading Style Sheets (CSS)** and a scripting language such as **JavaScript** to create interactive websites. HTML consists of a series of elements that \"tell\" to the browser how to display the content. Lastly, elements are represented by **tags**.\n",
    "\n",
    "Here are some tags:\n",
    "* `<!DOCTYPE html>` declaration defines this document to be HTML5.  \n",
    "* `<html>` element is the root element of an HTML page.  \n",
    "* `<div>` tag defines a division or a section in an HTML document. It's usually a container for other elements.\n",
    "* `<head>` element contains meta information about the document.  \n",
    "* `<title>` element specifies a title for the document.  \n",
    "* `<body>` element contains the visible page content.  \n",
    "* `<h1>` element defines a large heading.  \n",
    "* `<p>` element defines a paragraph.  \n",
    "* `<a>` element defines a hyperlink.\n",
    "\n",
    "HTML tags normally come in pairs like `<p>` and `</p>`. The first tag in a pair is the opening tag, the second tag is the closing tag. The end tag is written like the start tag, but with a slash inserted before the tag name.\n",
    "\n",
    "<img src=\"./figures/Web-Scraping/tags.png\" width=\"512\">\n",
    "\n",
    "HTML has a tree-like 🌳 🌲 structure thanks to the **Document Object Model (DOM)**, a cross-platform and language-independent interface. Here's how a very simple HTML tree looks like.\n",
    "\n",
    "<img src=\"./figures/Web-Scraping/dom_tree.gif\">\n",
    "\n",
    "### Creating a simple HTML page"
   ]
  },
  {
   "cell_type": "markdown",
   "metadata": {
    "id": "TTr0lxjqCtTd"
   },
   "source": [
    "## Web Scraping with `requests` and `BeautifulSoup`\n",
    "\n",
    "\n",
    "\n",
    "### What is `BeautifulSoup`?\n",
    "\n",
    "It is a Python library for pulling data out of HTML and XML files. It provides methods to navigate the document's tree structure that we discussed before and scrape its content.\n",
    "\n",
    "### Our pipeline\n",
    "<img src='./figures/Web-Scraping/scrape-pipeline.png' width=\"1024\">"
   ]
  },
  {
   "cell_type": "code",
   "execution_count": 1,
   "metadata": {
    "colab": {
     "base_uri": "https://localhost:8080/"
    },
    "id": "-i1enZkts1wu",
    "outputId": "3d5b6181-07c0-48bd-882b-4612540e368d"
   },
   "outputs": [
    {
     "name": "stdout",
     "output_type": "stream",
     "text": [
      "Requirement already satisfied: lxml in /home/ashry/anaconda3/lib/python3.8/site-packages (4.5.2)\n"
     ]
    }
   ],
   "source": [
    "!pip install lxml"
   ]
  },
  {
   "cell_type": "code",
   "execution_count": 2,
   "metadata": {
    "id": "5fBWMiVoCtTd"
   },
   "outputs": [],
   "source": [
    "# Imports\n",
    "import requests\n",
    "from bs4 import BeautifulSoup\n",
    "import matplotlib.pyplot as plt\n",
    "import numpy as np \n",
    "import pandas as pd \n",
    "%matplotlib inline"
   ]
  },
  {
   "cell_type": "code",
   "execution_count": 46,
   "metadata": {
    "colab": {
     "base_uri": "https://localhost:8080/",
     "height": 120
    },
    "id": "7Lbx_4HkCtTf",
    "outputId": "fbac17e0-32ef-4258-b895-e8747258b510"
   },
   "outputs": [
    {
     "name": "stdout",
     "output_type": "stream",
     "text": [
      "<head>\n",
      " <meta charset=\"utf-8\"/>\n",
      " <meta content=\"IE=edge\" http-equiv=\"X-UA-Compatible\"/>\n",
      " <meta content=\"width=device-width, initial-scale=1.0, shrink-to-fit=no\" name=\"viewport\"/>\n",
      " <title data-react-helmet=\"true\">\n",
      "  Job Search | WUZZUF\n",
      " </title>\n",
      " <meta charset=\"utf-8\" data-react-helmet=\"true\"/>\n",
      " <meta content=\"Searching for jobs in Egypt? Wuzzuf helps you in your online job search to find Jobs in Egypt and Middle East. Choose the right job using our online recruitment services.\" data-react-helmet=\"true\" name=\"description\"/>\n",
      " <meta content=\"jobs in Egypt, job in Egypt, careers egypt, jobs in Cairo, jobs in alexandria, employment in egypt, Egypt jobs, jobs vacancies, job vacancies in egypt, job search egypt, job vacancies egypt, job recruitment in egypt, job opportunities in egypt, jobs cairo, job vacancy egypt , وظائف مصر\" data-react-helmet=\"true\" name=\"keywords\"/>\n",
      " <meta content=\"Jobs in Egypt | WUZZUF\" data-react-helmet=\"true\" property=\"og:title\"/>\n",
      " <meta content=\"website\" data-react-helmet=\"true\" property=\"og:type\"/>\n",
      " <meta content=\"https://wuzzuf.net/search/jobs/\" data-react-helmet=\"true\" property=\"og:url\"/>\n",
      " <meta content=\"WUZZUF\" data-react-helmet=\"true\" property=\"og:site_name\"/>\n",
      " <meta content=\"373086796047717\" data-react-helmet=\"true\" property=\"fb:app_id\"/>\n",
      " <meta content=\"https://wuzzuf.net/images/search-page-og-image.png\" data-react-helmet=\"true\" property=\"og:image\"/>\n",
      " <meta content=\"Searching for jobs in Egypt? Wuzzuf helps you in your online job search to find Jobs in Egypt and Middle East. Choose the right job using our online recruitment services.\" data-react-helmet=\"true\" property=\"og:description\"/>\n",
      " <meta content=\"Maadi\" data-react-helmet=\"true\" property=\"og:locality\"/>\n",
      " <meta content=\"Cairo\" data-react-helmet=\"true\" property=\"og:region\"/>\n",
      " <meta content=\"Egypt\" data-react-helmet=\"true\" property=\"og:country-name\"/>\n",
      " <link data-react-helmet=\"true\" href=\"https://wuzzuf.net/search/jobs/\" rel=\"canonical\"/>\n",
      " <link data-react-helmet=\"true\" href=\"https://wuzzuf.net/search/jobs?q=python&amp;start=1\" rel=\"next\"/>\n",
      " <link href=\"/manifest.json\" rel=\"manifest\"/>\n",
      " <link href=\"https://wuzzuf.net/favicon.ico\" rel=\"icon\"/>\n",
      " <link as=\"script\" data-chunk=\"index\" href=\"https://static.wuzzuf.net/vendor-28cd3f3112d16dd6cabb.js\" rel=\"preload\"/>\n",
      " <link as=\"script\" data-chunk=\"index\" href=\"https://static.wuzzuf.net/index-7fbe7a268036257603c9.js\" rel=\"preload\"/>\n",
      " <link as=\"script\" data-chunk=\"guest-job-search\" href=\"https://static.wuzzuf.net/3-afc4308ab91a318c66e0.js\" rel=\"preload\"/>\n",
      " <link as=\"script\" data-chunk=\"guest-job-search\" href=\"https://static.wuzzuf.net/vendors~employer-cv-search-cv-search-content~employer-folders-landing-page-index~employer-learning-l~d8093f65-77f2b4acd729f8486cee.js\" rel=\"preload\"/>\n",
      " <link as=\"script\" data-chunk=\"guest-job-search\" href=\"https://static.wuzzuf.net/vendors~employer-folders-landing-page-index~guest-job-search~guest-learning-learning-browse-page~job~da84cbb1-275cc04232c9cc0a8268.js\" rel=\"preload\"/>\n",
      " <link as=\"script\" data-chunk=\"guest-job-search\" href=\"https://static.wuzzuf.net/vendors~guest-job-search-21a37092e53b38787bd4.js\" rel=\"preload\"/>\n",
      " <link as=\"script\" data-chunk=\"guest-job-search\" href=\"https://static.wuzzuf.net/guest-job-search-9666f2f4d2cf0ae134a9.js\" rel=\"preload\"/>\n",
      " <link as=\"script\" data-chunk=\"jobseeker-job-search-search-bar-card-desktop\" href=\"https://static.wuzzuf.net/8-1efea46f434df57f15a8.js\" rel=\"preload\"/>\n",
      " <link as=\"script\" data-chunk=\"jobseeker-job-search-search-bar-card-desktop\" href=\"https://static.wuzzuf.net/vendors~jobseeker-job-search-search-bar-card-desktop~jobseeker-job-search-search-bar-card-mobile-1a5f64ecd85044cd77cf.js\" rel=\"preload\"/>\n",
      " <link as=\"script\" data-chunk=\"jobseeker-job-search-search-bar-card-desktop\" href=\"https://static.wuzzuf.net/jobseeker-job-search-search-bar-card-desktop-8a77b4c2c676095eeebb.js\" rel=\"preload\"/>\n",
      " <link href=\"https://fonts.googleapis.com/css?family=Open+Sans:300,300i,400,400i,600,600i,700,700i&amp;display=swap\" rel=\"stylesheet\"/>\n",
      " <style>\n",
      "  html, body { padding: 0; margin: 0; font-family: 'Open Sans', sans-serif; }\n",
      "        input, textarea, select, button { font-family: 'Open Sans', sans-serif; }\n",
      "        * { box-sizing: border-box; }\n",
      " </style>\n",
      " <link href=\"https://static.wuzzuf.net/css/global.css\" rel=\"stylesheet\"/>\n",
      " <link href=\"https://static.wuzzuf.net/css/lib.css\" rel=\"stylesheet\" type=\"text/css\"/>\n",
      "</head>\n",
      "\n"
     ]
    }
   ],
   "source": [
    "url = 'https://wuzzuf.net/search/jobs/?q=python&a=hpb'\n",
    "response = requests.get(url)\n",
    "wuzzuf_soup = BeautifulSoup(response.content)\n"
   ]
  },
  {
   "cell_type": "code",
   "execution_count": null,
   "metadata": {},
   "outputs": [],
   "source": [
    "print(wuzzuf_soup.head.prettify())"
   ]
  },
  {
   "cell_type": "code",
   "execution_count": 52,
   "metadata": {
    "colab": {
     "base_uri": "https://localhost:8080/",
     "height": 35
    },
    "id": "KLSKxbOWCtTg",
    "outputId": "ebc2e913-23d9-4513-eef3-7f0686063737"
   },
   "outputs": [
    {
     "data": {
      "text/plain": [
       "'Senior Software Engineer - Python\\\\Django'"
      ]
     },
     "execution_count": 52,
     "metadata": {},
     "output_type": "execute_result"
    }
   ],
   "source": [
    "job = wuzzuf_soup.find('div', {'class': 'css-pkv5jc'})\n",
    "job_title = job.h2.a.text\n",
    "job_title"
   ]
  },
  {
   "cell_type": "markdown",
   "metadata": {
    "id": "-_ZfNb0pCtTg"
   },
   "source": [
    "### Collect Jobs info"
   ]
  },
  {
   "cell_type": "code",
   "execution_count": 55,
   "metadata": {
    "id": "bSkB87HQCtTh"
   },
   "outputs": [
    {
     "data": {
      "text/plain": [
       "'Full time'"
      ]
     },
     "execution_count": 55,
     "metadata": {},
     "output_type": "execute_result"
    }
   ],
   "source": [
    "job_type = job.find('div', {'class': 'css-1lh32fc'}).a.text"
   ]
  },
  {
   "cell_type": "code",
   "execution_count": 71,
   "metadata": {
    "colab": {
     "base_uri": "https://localhost:8080/",
     "height": 35
    },
    "id": "_HX5UoYHCtTh",
    "outputId": "e15da23b-20ab-4f7f-dc1e-c0deda4fed6b"
   },
   "outputs": [
    {
     "data": {
      "text/plain": [
       "['Experienced',\n",
       " 'Python',\n",
       " 'Computer Science',\n",
       " 'Software Engineering',\n",
       " 'Framework',\n",
       " 'Software Development',\n",
       " 'AWS',\n",
       " 'Information Technology (IT)',\n",
       " 'javaScript',\n",
       " 'Web Services',\n",
       " 'ReactJS']"
      ]
     },
     "execution_count": 71,
     "metadata": {},
     "output_type": "execute_result"
    }
   ],
   "source": [
    "skills = job.find('div', {'class':'css-y4udm8'}).find_all('div')[1].find_all('a')\n",
    "skills = [skill.text.replace('· ','').strip() for skill in skills ] \n",
    "skills "
   ]
  },
  {
   "cell_type": "code",
   "execution_count": 73,
   "metadata": {
    "colab": {
     "base_uri": "https://localhost:8080/",
     "height": 35
    },
    "id": "ZqI03NW-v7Ps",
    "outputId": "2e6f5b93-7feb-4b59-df36-7fd7dc71fac3"
   },
   "outputs": [
    {
     "data": {
      "text/plain": [
       "'https://images.wuzzuf-data.net/files/company_logo/Paymob-Solutions-Egypt-43747-1601215347.png'"
      ]
     },
     "execution_count": 73,
     "metadata": {},
     "output_type": "execute_result"
    }
   ],
   "source": [
    "job_logo_url = job.find('img')['src']"
   ]
  },
  {
   "cell_type": "code",
   "execution_count": 74,
   "metadata": {
    "id": "LITT9a49w_kD"
   },
   "outputs": [
    {
     "name": "stdin",
     "output_type": "stream",
     "text": [
      " aws\n"
     ]
    },
    {
     "name": "stdout",
     "output_type": "stream",
     "text": [
      "\n",
      "        The job title is Senior Software Engineer - Python\\Django\n",
      "        It is a Full time job\n",
      "        The image link is https://images.wuzzuf-data.net/files/company_logo/Paymob-Solutions-Egypt-43747-1601215347.png\n",
      "        The required skills are: \n",
      "            \n",
      "Experienced\n",
      "Python\n",
      "Computer Science\n",
      "Software Engineering\n",
      "Framework\n",
      "Software Development\n",
      "AWS\n",
      "Information Technology (IT)\n",
      "javaScript\n",
      "Web Services\n",
      "ReactJS\n",
      "--------------------------------------------\n",
      "\n",
      "        The job title is Senior Python Developer\n",
      "        It is a Full time job\n",
      "        The image link is https://images.wuzzuf-data.net/files/company_logo/ExaServe-LLC-Egypt-4028-1606635818.png\n",
      "        The required skills are: \n",
      "            \n",
      "Experienced\n",
      "AWS\n",
      "Computer Science\n",
      "Docker\n",
      "Git\n",
      "OOP\n",
      "Python\n",
      "Software Development\n",
      "Software Engineering\n",
      "Information Technology (IT)\n",
      "SQL\n",
      "--------------------------------------------\n",
      "\n",
      "        The job title is Senior Software Engineer (JavaEE /Python)\n",
      "        It is a Full time job\n",
      "        The image link is https://images.wuzzuf-data.net/files/company_logo/Flairstech-Egypt-1631-1624875613.png\n",
      "        The required skills are: \n",
      "            \n",
      "Experienced\n",
      "Java\n",
      "Python\n",
      "AWS\n",
      "DevOps\n",
      "API\n",
      "Computer Science\n",
      "Docker\n",
      "Information Technology (IT)\n",
      "Linux\n",
      "Software\n",
      "--------------------------------------------\n",
      "\n",
      "        The job title is Senior Software Engineer - Python\n",
      "        It is a Full time job\n",
      "        The image link is https://images.wuzzuf-data.net/files/company_logo/Paymob-Solutions-Egypt-43747-1601215347.png\n",
      "        The required skills are: \n",
      "            \n",
      "Experienced\n",
      "Python\n",
      "Computer Science\n",
      "Software Engineering\n",
      "Framework\n",
      "Software Development\n",
      "AWS\n",
      "Information Technology (IT)\n",
      "javaScript\n",
      "Web Services\n",
      "ReactJS\n",
      "--------------------------------------------\n"
     ]
    },
    {
     "data": {
      "text/html": [
       "<div>\n",
       "<style scoped>\n",
       "    .dataframe tbody tr th:only-of-type {\n",
       "        vertical-align: middle;\n",
       "    }\n",
       "\n",
       "    .dataframe tbody tr th {\n",
       "        vertical-align: top;\n",
       "    }\n",
       "\n",
       "    .dataframe thead th {\n",
       "        text-align: right;\n",
       "    }\n",
       "</style>\n",
       "<table border=\"1\" class=\"dataframe\">\n",
       "  <thead>\n",
       "    <tr style=\"text-align: right;\">\n",
       "      <th></th>\n",
       "      <th>Job Title</th>\n",
       "      <th>Image URL</th>\n",
       "      <th>Job Type</th>\n",
       "      <th>Skills</th>\n",
       "    </tr>\n",
       "  </thead>\n",
       "  <tbody>\n",
       "    <tr>\n",
       "      <th>0</th>\n",
       "      <td>Senior Software Engineer - Python\\Django</td>\n",
       "      <td>https://images.wuzzuf-data.net/files/company_l...</td>\n",
       "      <td>Full time</td>\n",
       "      <td>['Experienced', 'Python', 'Computer Science', ...</td>\n",
       "    </tr>\n",
       "    <tr>\n",
       "      <th>1</th>\n",
       "      <td>Senior Python Django Full Stack Developer</td>\n",
       "      <td>https://images.wuzzuf-data.net/files/company_l...</td>\n",
       "      <td>Full time</td>\n",
       "      <td>['Experienced', 'Computer Science', 'Software ...</td>\n",
       "    </tr>\n",
       "    <tr>\n",
       "      <th>2</th>\n",
       "      <td>Python Developer</td>\n",
       "      <td>https://images.wuzzuf-data.net/files/company_l...</td>\n",
       "      <td>Full time</td>\n",
       "      <td>['Experienced', 'Software Development', 'Pytho...</td>\n",
       "    </tr>\n",
       "    <tr>\n",
       "      <th>3</th>\n",
       "      <td>Backend Developer (Python) - Fully Remote</td>\n",
       "      <td>https://images.wuzzuf-data.net/files/company_l...</td>\n",
       "      <td>Full time</td>\n",
       "      <td>['Experienced', 'backend', 'Python', 'Developm...</td>\n",
       "    </tr>\n",
       "    <tr>\n",
       "      <th>4</th>\n",
       "      <td>Senior Python Developer</td>\n",
       "      <td>https://images.wuzzuf-data.net/files/company_l...</td>\n",
       "      <td>Full time</td>\n",
       "      <td>['Experienced', 'AWS', 'Computer Science', 'Do...</td>\n",
       "    </tr>\n",
       "  </tbody>\n",
       "</table>\n",
       "</div>"
      ],
      "text/plain": [
       "                                   Job Title  \\\n",
       "0   Senior Software Engineer - Python\\Django   \n",
       "1  Senior Python Django Full Stack Developer   \n",
       "2                           Python Developer   \n",
       "3  Backend Developer (Python) - Fully Remote   \n",
       "4                    Senior Python Developer   \n",
       "\n",
       "                                           Image URL   Job Type  \\\n",
       "0  https://images.wuzzuf-data.net/files/company_l...  Full time   \n",
       "1  https://images.wuzzuf-data.net/files/company_l...  Full time   \n",
       "2  https://images.wuzzuf-data.net/files/company_l...  Full time   \n",
       "3  https://images.wuzzuf-data.net/files/company_l...  Full time   \n",
       "4  https://images.wuzzuf-data.net/files/company_l...  Full time   \n",
       "\n",
       "                                              Skills  \n",
       "0  ['Experienced', 'Python', 'Computer Science', ...  \n",
       "1  ['Experienced', 'Computer Science', 'Software ...  \n",
       "2  ['Experienced', 'Software Development', 'Pytho...  \n",
       "3  ['Experienced', 'backend', 'Python', 'Developm...  \n",
       "4  ['Experienced', 'AWS', 'Computer Science', 'Do...  "
      ]
     },
     "execution_count": 74,
     "metadata": {},
     "output_type": "execute_result"
    }
   ],
   "source": [
    "jobs = wuzzuf_soup.find_all('div', {'class': 'css-pkv5jc'})\n",
    "preferred_skill = input()\n",
    "\n",
    "def include_skill(pref, skills): \n",
    "    \n",
    "    for skill in skills: \n",
    "        if pref.lower() in skill.lower():\n",
    "            return True\n",
    "    return False\n",
    "skill_arr = np.array([])\n",
    "img_arr = np.array([])\n",
    "type_arr = np.array([])\n",
    "title_arr = np.array([])\n",
    "\n",
    "for job in jobs: \n",
    "    \n",
    "    \n",
    "    job_title = job.find('h2').a.text\n",
    "    \n",
    "    requirements = job.find('div' , {'class':'css-y4udm8'})\n",
    "    r1 = requirements.find('span', {'class':'css-1ve4b75'}).text\n",
    "    all_divs = requirements.find_all('div')\n",
    "    skills = all_divs[1].find_all('a')\n",
    "    skills = [skill.text.strip().replace('· ','') for skill in skills]\n",
    "    logo = job.find('img')\n",
    "    logo_url = logo['src']\n",
    "    if include_skill(preferred_skill,skills):\n",
    "        print(f\"\"\"\n",
    "        The job title is {job_title}\n",
    "        It is a {r1} job\n",
    "        The image link is {logo_url}\n",
    "        The required skills are: \n",
    "            \"\"\")\n",
    "        for skill in skills: \n",
    "            print(skill)\n",
    "        print ('--------------------------------------------')\n",
    "    title_arr = np.append(title_arr,job_title)\n",
    "    img_arr = np.append(img_arr,logo_url)\n",
    "    type_arr = np.append(type_arr,r1)\n",
    "    skill_arr = np.append(skill_arr,str(skills))\n",
    "    \n",
    "\n",
    "data = pd.DataFrame(\n",
    "    {'Job Title':title_arr,\n",
    "     'Image URL':img_arr,\n",
    "     'Job Type':type_arr,\n",
    "     'Skills' : skill_arr\n",
    "    }\n",
    ")\n",
    "\n",
    "data.head()"
   ]
  },
  {
   "cell_type": "code",
   "execution_count": 9,
   "metadata": {
    "colab": {
     "base_uri": "https://localhost:8080/"
    },
    "id": "8PbMLbFoxD2p",
    "outputId": "9d7cae32-4ed2-459d-c6d7-9679456aace7"
   },
   "outputs": [
    {
     "name": "stdout",
     "output_type": "stream",
     "text": [
      "Experienced\n",
      "Python\n",
      "Computer Science\n",
      "Software Engineering\n",
      "Framework\n",
      "Software Development\n",
      "AWS\n",
      "Information Technology (IT)\n",
      "javaScript\n",
      "Web Services\n",
      "ReactJS\n"
     ]
    }
   ],
   "source": []
  },
  {
   "cell_type": "markdown",
   "metadata": {
    "id": "4yt7HNcuCtTk"
   },
   "source": [
    "### Collect Images"
   ]
  },
  {
   "cell_type": "code",
   "execution_count": 10,
   "metadata": {
    "colab": {
     "base_uri": "https://localhost:8080/",
     "height": 35
    },
    "id": "egtBdOcrCtTk",
    "outputId": "50e28138-8b81-42f4-be9a-ddca84ca2650"
   },
   "outputs": [
    {
     "data": {
      "text/plain": [
       "'https://images.wuzzuf-data.net/files/company_logo/Paymob-Solutions-Egypt-43747-1601215347.png'"
      ]
     },
     "execution_count": 10,
     "metadata": {},
     "output_type": "execute_result"
    }
   ],
   "source": []
  },
  {
   "cell_type": "code",
   "execution_count": 11,
   "metadata": {
    "colab": {
     "base_uri": "https://localhost:8080/"
    },
    "id": "SX1_DOCDYXqg",
    "outputId": "1d114aed-da03-4adb-ea09-404206cc29ee"
   },
   "outputs": [
    {
     "name": "stdin",
     "output_type": "stream",
     "text": [
      " aws\n"
     ]
    },
    {
     "name": "stdout",
     "output_type": "stream",
     "text": [
      "\n",
      "        The job title is Senior Software Engineer - Python\\Django\n",
      "        It is a Full time job\n",
      "        The image link is https://images.wuzzuf-data.net/files/company_logo/Paymob-Solutions-Egypt-43747-1601215347.png\n",
      "        The required skills are: \n",
      "            \n",
      "Experienced\n",
      "Python\n",
      "Computer Science\n",
      "Software Engineering\n",
      "Framework\n",
      "Software Development\n",
      "AWS\n",
      "Information Technology (IT)\n",
      "javaScript\n",
      "Web Services\n",
      "ReactJS\n",
      "--------------------------------------------\n",
      "\n",
      "        The job title is Senior Python Developer\n",
      "        It is a Full time job\n",
      "        The image link is https://images.wuzzuf-data.net/files/company_logo/ExaServe-LLC-Egypt-4028-1606635818.png\n",
      "        The required skills are: \n",
      "            \n",
      "Experienced\n",
      "AWS\n",
      "Computer Science\n",
      "Docker\n",
      "Git\n",
      "OOP\n",
      "Python\n",
      "Software Development\n",
      "Software Engineering\n",
      "Information Technology (IT)\n",
      "SQL\n",
      "--------------------------------------------\n",
      "\n",
      "        The job title is Senior Software Engineer (JavaEE /Python)\n",
      "        It is a Full time job\n",
      "        The image link is https://images.wuzzuf-data.net/files/company_logo/Flairstech-Egypt-1631-1624875613.png\n",
      "        The required skills are: \n",
      "            \n",
      "Experienced\n",
      "Java\n",
      "Python\n",
      "AWS\n",
      "DevOps\n",
      "API\n",
      "Computer Science\n",
      "Docker\n",
      "Information Technology (IT)\n",
      "Linux\n",
      "Software\n",
      "--------------------------------------------\n",
      "\n",
      "        The job title is Senior Software Engineer - Python\n",
      "        It is a Full time job\n",
      "        The image link is https://images.wuzzuf-data.net/files/company_logo/Paymob-Solutions-Egypt-43747-1601215347.png\n",
      "        The required skills are: \n",
      "            \n",
      "Experienced\n",
      "Python\n",
      "Computer Science\n",
      "Software Engineering\n",
      "Framework\n",
      "Software Development\n",
      "AWS\n",
      "Information Technology (IT)\n",
      "javaScript\n",
      "Web Services\n",
      "ReactJS\n",
      "--------------------------------------------\n"
     ]
    }
   ],
   "source": []
  },
  {
   "cell_type": "markdown",
   "metadata": {},
   "source": [
    "### **Amazon Example**"
   ]
  },
  {
   "cell_type": "code",
   "execution_count": 12,
   "metadata": {},
   "outputs": [
    {
     "data": {
      "text/plain": [
       "'https://www.amazon.eg/s?k=iphone&ref=nb_sb_noss_2'"
      ]
     },
     "execution_count": 12,
     "metadata": {},
     "output_type": "execute_result"
    }
   ],
   "source": []
  },
  {
   "cell_type": "code",
   "execution_count": 13,
   "metadata": {},
   "outputs": [
    {
     "name": "stdout",
     "output_type": "stream",
     "text": [
      "<!DOCTYPE html>\n",
      "<html class=\"a-no-js\" data-19ax5a9jf=\"dingo\" dir=\"rtl\" lang=\"ar-ae\">\n",
      " <!-- sp:feature:head-start -->\n",
      " <head>\n",
      "  <script>\n",
      "   var aPageStart = (new Date()).getTime();\n",
      "  </script>\n",
      "  <meta charset=\"utf-8\"/>\n",
      "  <!-- sp:end-feature:head-start -->\n",
      "  <!-- sp:feature:cs-optimization -->\n",
      "  <meta content=\"on\" http-equiv=\"x-dns-prefetch-control\"/>\n",
      "  <link href=\"https://images-eu.ssl-images-amazon.com\" rel=\"dns-prefetch\"/>\n",
      "  <link href=\"https://m.media-amazon.com\" rel=\"dns-prefetch\"/>\n",
      "  <link href=\"https://completion.amazon.com\" rel=\"dns-prefetch\"/>\n",
      "  <!-- sp:end-feature:cs-optimization -->\n",
      "  <!-- sp:feature:aui-assets -->\n",
      "  <link href=\"https://images-eu.ssl-images-amazon.com/images/I/7111VMgVVNL.css?AUIClients/AmazonRTL#language-ar.not-trident.rtl-true\" rel=\"stylesheet\"/>\n",
      "  <script>\n",
      "   (function(d,f,Q,D){function E(a){u&&u.tag&&u.tag(p(\":\",\"aui\",a))}function r(a,b){u&&u.count&&u.count(\"aui:\"+a,0===b?0:b||(u.count(\"aui:\"+a)||0)+1)}function n(a){try{return a.test(navigator.userAgent)}c\n"
     ]
    }
   ],
   "source": []
  },
  {
   "cell_type": "code",
   "execution_count": 38,
   "metadata": {},
   "outputs": [
    {
     "name": "stdout",
     "output_type": "stream",
     "text": [
      "ايفون 12 برو ماكس 256 جيجابايت وذاكرة رام 6 جيجابايت من ابل، ازرق باسيفيك\n",
      "21550\n",
      "موبايل ابل ايفون 12، 128 جيجابايت، ذاكرة رام 4 جيجابايت، لون ازرق\n",
      "15354\n",
      "ابل ايفون 11 برو ماكس مع تطبيق فيس تايم - 256 جيجا، رام 4 جيجا، الجيل الرابع ال تي اي، اخضر داكن، شريحة واحدة و شريحة الاتصال الإلكتروني\n",
      "18350\n",
      "موبايل ابل ايفون 7 اس مع فيس تايم - 128 جيجابايت، الجيل الرابع ال تي اي، روز ذهبي، 4.7 بوصة\n",
      "6311\n",
      "ابل ايفون 11 الجديد (128 جيجابايت) - ابيض\n",
      "12700\n",
      "Apple Iphone XS Max With Facetime - 256 GB, 4G LTE, Space Grey, 4 GB Ram, Single Sim & E-Sim\n",
      "13680\n",
      "ايفون 12 برو 256 جيجابايت وذاكرة رام 6 جيجابايت من ابل، اللون ازرق فاتح - MGMD3J/A\n",
      "19999\n",
      "موبايل ابل ايفون XS بخاصية فيس تايم - 256 جيجابايت، 4G LTE، ذاكرة رام 4 جيجابايت، شريحة اتصال واحدة وشريحة مدمجة، ذهبي\n",
      "12500\n",
      "ابل ايفون 11 مع تطبيق فيس تايم MHDM3J/A - سعة 128 جيجا، 4 جيجا رام، الجيل الرابع ال تي اي، ارجواني، شريحة واحدة و شريحة الاتصال الإلكتروني\n",
      "12700\n",
      "ابل ايفون 12 برو، 128 جيجابايت، ذاكرة رام 6 جيجابايت، لون ازرق فاتح\n",
      "18845\n",
      "ابل ايفون 11 مع فيس تايم - 128 جيجا، 4 جيجا رام، الجيل الرابع ال تي اي، ارجواني، شريحة واحدة و اتصال E-M، MHDM3AA\\A\n",
      "12970\n",
      "ابل ايفون 11 مع فيس تايم - 128 جيجا، 4 جيجا رام، الجيل الرابع ال تي اي، اسود، شريحة واحدة و اتصال E-SIM - MHDH3AA\\A\n",
      "12700\n",
      "موبايل ابل ايفون X بتطبيق فيس تايم، 256 جيجابايت، ذاكرة RAM 3 جيجابايت و4G LTE، شريحة اتصال واحدة، رمادي فلكي\n",
      "10200\n",
      "AmazonBasics Lightning to USB A Cable - Apple MFi Certified iPhone Charger - Black, 10-Foot\n",
      "169\n",
      "ايفون 13 برو ماكس 256 جيجابايت سييرا بلو\n",
      "32353\n",
      "ايفون 12 برو ماكس 256 جيجابايت وذاكرة رام 6 جيجابايت من ابل، ازرق باسيفيك\n",
      "21497\n",
      "ايفون 8 بلس مع تطبيق فيس تايم من ابل، 256 جيجابايت، الجيل الرابع ال تي اي، لون رمادي سبيس جراي، رام 3 جيجا، شريحة واحدة\n",
      "10100\n",
      "ابل ايفون 12 برو ماكس MGD13J/A، 256 جيجابايت، 6 جيجابايت رام، لون ذهبي\n",
      "21899\n",
      "موبايل ابل ايفون 11 بخاصية فيس تايم - 128 جيجابايت - ذاكرة RAM 4 جيجابايت - 4G LTE - اسود - شريحة واحدة وشريحة مدمجة - MWM02J/A\n",
      "12598\n",
      "ابل ايفون 12، 6.1 بوصة، 128 جيجابايت، 4 جيجابايت رام، ارجواني\n",
      "15950\n",
      "موبايل ايفون 11 من ابل بتطبيق فيس تايم، سعة 128 جيجابايت، 4G LTE (2020 - عبوة رفيعة)، ابيض، اصدار دولي\n",
      "12700\n",
      "ابل ايفون 7 بلس مع فيس تايم - 128 جيجا، الجيل الرابع ال تي اي، فضي، رام 3 جيجا، شريحة واحدة\n",
      "8745\n",
      "ابل ايفون اكس ار بتقنية فيس تايم - 64 جيجابايت، الجيل الرابع ال تي اي، لون اصفر، 3 جيجابايت رام وشريحة اتصال واحدة وشريحة الكترونية\n",
      "11211\n",
      "كابل شحن وتوصيل مايكرو يو اس بي 3 متر لـ ايفون من جريفين\n",
      "14\n",
      "ابل ايفون 12 برو - 256جيجابيت, ذهبى\n",
      "21500\n",
      "جراب خلفى بلاستيك بغطاء حامى للكاميرا وإطار سيليكون لايفون 11 - شفاف موف\n",
      "59\n",
      "Ringke Compatible with iPhone 13 Pro Max Case, Air-S Silicone Type Shockproof Flexible Matte TPU Thin Full Protection Phone Cover for 6.7-inch (2021) (Lavender Gray)\n",
      "228\n",
      "ابل ايفون 12 ميني بتقنية فيس تايم - 128 جيجابايت، الجيل الخامس، لون ازرق - نسخة الشرق الاوسط\n",
      "14900\n",
      "ابل ايفون 11 مع فيس تايم - 128 جيجا، الجيل الرابع ال تي اي، (2020 - عبوة رفيعة) اخضر - اصدار عالمي\n",
      "12700\n",
      "حامل هاتف محمول من Iends Universal مرن طويل أذرع كسلية لسطح المكتب لهاتف Samsung iPhone Huawei Nokia HTC\n",
      "22\n",
      "Ringke Fusion-X Compatible with iPhone 13 Pro Max Case, Clear Hard Back Heavy Duty Shockproof Advanced Protective TPU Bumper Phone Cover (Camo Black)\n",
      "328\n",
      "جراب هاتف Samsung Shield Pro من نيلكين متوافق مع هاتف iPhone 13 Pro Max، [حماية الكاميرا] مع غطاء كاميرا منزلق، حافظة واقية أنيقة ورفيعة متوافقة مع iPhone 13 Pro Max 6.7 بوصة أسود\n",
      "178\n",
      "موبايل ابل ايفون 7 بخاصية فيس تايم - 128 جيجابايت، 4G LTE، ذهبي، رام 2 جيجابايت، شريحة اتصال واحدة\n",
      "6150\n",
      "موبايل ابل ايفون اكس اس ماكس بخاصية فيس تايم - 64 جيجابايت، 4G LTE، فضي، 4 جيجابايت ذاكرة الرام، شريحة اتصال واحدة وشريحة مدمجة\n",
      "13600\n",
      "جراب خلفي للحماية من سلسلة كريستال ( مع حواف اعلى ) لايفون 12 برو ماكس JR-BP859 من جوي رووم - شفاف\n",
      "102\n",
      "كابل للشحن ونقل البيانات 2 متر متوافق مع ايفون 5/5اس/6/6اس/6بلس/6اس بلس/7/7بلس/8/8بلس/اكس/اكس اس/اكس ار/اكس اس ماكس\n",
      "90\n",
      "متوافق مع هواتف خلوية - كوابل\n",
      "25\n",
      "ابل ايفون 11 مع فيس تايم - 128 جيجا، 4 جيجا رام، الجيل الرابع ال تي اي، اخضر، شريحة واحدة و اتصال E-M، MHDN3AA\\A\n",
      "12888\n",
      "ابل ايفون 11 برو مع فيس تايم - 256 جيجا، 4 جيجا رام، الجيل الرابع ال تي اي، اخضر داكن، شريحة واحدة و شريحة الاتصال الإلكتروني\n",
      "18595\n",
      "ايفون 13 برو 128 جيجا سييرا ازرق\n",
      "24985\n",
      "موبايل ابل ايفون 7 بتطبيق فيس تايم - 128 جيجابايت، 4G LTE، اسود\n",
      "6200\n",
      "شاشة حماية زجاجية مقساة ثلاثية الابعاد رقيقة للغاية ذات تغطية كاملة لحماية من الفقاعات ناعمة لايفون 11 برو ماكس (6.5 بوصة) (عدد 2)\n",
      "36\n",
      "شاشة حماية ايفون XR – شفاف\n",
      "21\n",
      "بيور وايت سماعات أذن مع ريموت كنترول للايفون 6S/6sPLUS/6/6PLUS/5/4/IPAD/IPOd\n",
      "46\n",
      "حافظة حماية شفافة ورفيعة للغاية 0.55 ملم وخفيف الوزن مع حواف مدعمة، مقاومة للسقطات لموبايل ايفون 11 برو\n",
      "19\n"
     ]
    },
    {
     "data": {
      "text/html": [
       "<div>\n",
       "<style scoped>\n",
       "    .dataframe tbody tr th:only-of-type {\n",
       "        vertical-align: middle;\n",
       "    }\n",
       "\n",
       "    .dataframe tbody tr th {\n",
       "        vertical-align: top;\n",
       "    }\n",
       "\n",
       "    .dataframe thead th {\n",
       "        text-align: right;\n",
       "    }\n",
       "</style>\n",
       "<table border=\"1\" class=\"dataframe\">\n",
       "  <thead>\n",
       "    <tr style=\"text-align: right;\">\n",
       "      <th></th>\n",
       "      <th>Titles</th>\n",
       "      <th>Prices</th>\n",
       "    </tr>\n",
       "  </thead>\n",
       "  <tbody>\n",
       "    <tr>\n",
       "      <th>0</th>\n",
       "      <td>ايفون 12 برو ماكس 256 جيجابايت وذاكرة رام 6 جي...</td>\n",
       "      <td>21550.0</td>\n",
       "    </tr>\n",
       "    <tr>\n",
       "      <th>1</th>\n",
       "      <td>موبايل ابل ايفون 12، 128 جيجابايت، ذاكرة رام 4...</td>\n",
       "      <td>15354.0</td>\n",
       "    </tr>\n",
       "    <tr>\n",
       "      <th>2</th>\n",
       "      <td>ابل ايفون 11 برو ماكس مع تطبيق فيس تايم - 256 ...</td>\n",
       "      <td>18350.0</td>\n",
       "    </tr>\n",
       "    <tr>\n",
       "      <th>3</th>\n",
       "      <td>موبايل ابل ايفون 7 اس مع فيس تايم - 128 جيجابا...</td>\n",
       "      <td>6311.0</td>\n",
       "    </tr>\n",
       "    <tr>\n",
       "      <th>4</th>\n",
       "      <td>ابل ايفون 11 الجديد (128 جيجابايت) - ابيض</td>\n",
       "      <td>12700.0</td>\n",
       "    </tr>\n",
       "  </tbody>\n",
       "</table>\n",
       "</div>"
      ],
      "text/plain": [
       "                                              Titles   Prices\n",
       "0  ايفون 12 برو ماكس 256 جيجابايت وذاكرة رام 6 جي...  21550.0\n",
       "1  موبايل ابل ايفون 12، 128 جيجابايت، ذاكرة رام 4...  15354.0\n",
       "2  ابل ايفون 11 برو ماكس مع تطبيق فيس تايم - 256 ...  18350.0\n",
       "3  موبايل ابل ايفون 7 اس مع فيس تايم - 128 جيجابا...   6311.0\n",
       "4          ابل ايفون 11 الجديد (128 جيجابايت) - ابيض  12700.0"
      ]
     },
     "execution_count": 38,
     "metadata": {},
     "output_type": "execute_result"
    }
   ],
   "source": []
  },
  {
   "cell_type": "code",
   "execution_count": 40,
   "metadata": {},
   "outputs": [
    {
     "data": {
      "text/plain": [
       "<matplotlib.axes._subplots.AxesSubplot at 0x7fd0a078a340>"
      ]
     },
     "execution_count": 40,
     "metadata": {},
     "output_type": "execute_result"
    },
    {
     "data": {
      "image/png": "[encoded data removed]",
      "text/plain": [
       "<Figure size 1080x720 with 1 Axes>"
      ]
     },
     "metadata": {
      "needs_background": "light"
     },
     "output_type": "display_data"
    }
   ],
   "source": []
  },
  {
   "cell_type": "markdown",
   "metadata": {
    "id": "zI5Kep60CtTv"
   },
   "source": [
    "## Advanced web scraping tools\n",
    "\n",
    "**[Scrapy](https://scrapy.org)** is a Python framework for large scale web scraping. It gives you all the tools you need to efficiently extract data from websites, process them as you want, and store them in your preferred structure and format.\n",
    "\n",
    "**[ARGUS](https://github.com/datawizard1337/ARGUS)** is an easy-to-use web mining tool that's built on Scrapy. It is able to crawl a broad range of different websites.\n",
    "\n",
    "**[Selenium](https://selenium-python.readthedocs.io/index.html)** is an umbrella project encapsulating a variety of tools and libraries enabling web browser automation. Selenium specifically provides infrastructure for the W3C WebDriver specification — a platform and language-neutral coding interface compatible with all major web browsers. We can use it to imitate a user's behaviour and interact with Javascript elements (buttons, sliders etc.).\n",
    "\n",
    "For now, let's see how Selenium works.\n",
    "\n",
    "### How to install Selenium\n",
    "1. If you are using Anaconda: `conda install -c conda-forge selenium `\n",
    "2. Download the driver for your web browser for [here](https://selenium-python.readthedocs.io/installation.html#drivers). **Note:** Choose a driver that corresponds to your web browser's version. Unzip the file and move the executable to your working directory.\n",
    "\n",
    "#### Important note on Selinium and web drivers\n",
    "If you are running this notebook locally, follow the above steps and run the code directly below (change the path to where your web driver is located). If you are running this notebook on colab, skip the next cell and run the one below it.\n",
    "\n",
    "### Scraping data with Selenium\n",
    "We will use [UK's Yearly Box Office](https://www.boxofficemojo.com/intl/uk/yearly/) to scrape not only the top 100 but all the top movies of 2019. This will be our pipeline:\n",
    "\n",
    "<img src='https://github.com/nestauk/im-tutorials/blob/3-ysi-tutorial/figures/Web-Scraping/selenium-pipeline.png?raw=1' width='1024'>"
   ]
  },
  {
   "cell_type": "markdown",
   "metadata": {
    "id": "BnJfqpuZCtT0"
   },
   "source": [
    "## Additional resources/references:\n",
    "\n",
    "* [Document Object Model (DOM)](https://developer.mozilla.org/en-US/docs/Web/API/Document_Object_Model/Introduction)\n",
    "* [HTML elements reference guide](https://www.w3schools.com/tags/default.asp)\n",
    "* [About /robots.txt](https://www.robotstxt.org/robotstxt.html)\n",
    "* [The robots.txt file](https://varvy.com/robottxt.html)\n",
    "* [Ethics in Web Scraping](https://towardsdatascience.com/ethics-in-web-scraping-b96b18136f01)\n",
    "* [On the Ethics of Web Scraping](http://robertorocha.info/on-the-ethics-of-web-scraping/)\n",
    "* [User-Agent](https://en.wikipedia.org/wiki/User_agent)\n",
    "* [BeautifulSoup documentation](https://www.crummy.com/software/BeautifulSoup/bs4/doc/)\n",
    "* [Selinium Python - Unofficial documentation](https://selenium-python.readthedocs.io/)\n",
    "* [ARGUS paper](http://ftp.zew.de/pub/zew-docs/dp/dp18033.pdf)\n",
    "* [Brian's C. Keegan](http://www.brianckeegan.com/) excellent [5-week web scraping course](https://github.com/CU-ITSS/Web-Data-Scraping-S2019) intended for researchers in the social sciences and humanities."
   ]
  }
 ],
 "metadata": {
  "colab": {
   "name": "Web Scraping Tutorial_.ipynb",
   "provenance": [],
   "toc_visible": true
  },
  "kernelspec": {
   "display_name": "Python 3",
   "language": "python",
   "name": "python3"
  },
  "language_info": {
   "codemirror_mode": {
    "name": "ipython",
    "version": 3
   },
   "file_extension": ".py",
   "mimetype": "text/x-python",
   "name": "python",
   "nbconvert_exporter": "python",
   "pygments_lexer": "ipython3",
   "version": "3.8.3"
  }
 },
 "nbformat": 4,
 "nbformat_minor": 4
}
