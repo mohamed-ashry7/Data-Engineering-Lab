{
 "cells": [
  {
   "cell_type": "markdown",
   "metadata": {
    "id": "lTUzTO9aNiMo"
   },
   "source": [
    "## **Data Integration - Challenge 1**"
   ]
  },
  {
   "cell_type": "code",
   "execution_count": 3,
   "metadata": {
    "id": "JhAJbr8_Ojn2"
   },
   "outputs": [],
   "source": [
    "import pandas as pd\n",
    "import pandas as pd\n",
    "def get_path(dataset_name,env_name='colab'):\n",
    "    \"\"\"\n",
    "    This function is used to return the path of the dataset you want to use. \n",
    "    \n",
    "    @params:\n",
    "    dataset_name: the name of the dataset. \n",
    "    env_name: it has two values either local, or colab the default is colab\n",
    "    \"\"\"\n",
    "    prefix = 'https://raw.githubusercontent.com/mohamed-ashry7/Data-Engineering-Lab/main/Datasets/'\n",
    "    if env_name == 'colab':\n",
    "        return prefix+dataset_name\n",
    "    else:\n",
    "        return f'../Datasets/{dataset_name}'"
   ]
  },
  {
   "cell_type": "code",
   "execution_count": 4,
   "metadata": {
    "colab": {
     "base_uri": "https://localhost:8080/",
     "height": 314
    },
    "id": "P2gobejqNg_N",
    "outputId": "b966c53c-96fd-45a9-996a-12590551c856"
   },
   "outputs": [],
   "source": [
    "mid1 = pd.read_excel(get_path('microbiome/MID1.xls'),header=None,names= [\"Type\",\"Count\"])\n",
    "mid2 = pd.read_excel(get_path('microbiome/MID2.xls'),header=None,names= [\"Type\",\"Count\"])\n",
    "mid3 = pd.read_excel(get_path('microbiome/MID3.xls'),header=None,names= [\"Type\",\"Count\"])\n",
    "mid4 = pd.read_excel(get_path('microbiome/MID4.xls'),header=None,names= [\"Type\",\"Count\"])\n",
    "mid5 = pd.read_excel(get_path('microbiome/MID5.xls'),header=None,names= [\"Type\",\"Count\"])\n",
    "mid6 = pd.read_excel(get_path('microbiome/MID6.xls'),header=None,names= [\"Type\",\"Count\"])\n",
    "mid7 = pd.read_excel(get_path('microbiome/MID7.xls'),header=None,names= [\"Type\",\"Count\"])\n",
    "mid8 = pd.read_excel(get_path('microbiome/MID8.xls'),header=None,names= [\"Type\",\"Count\"])\n",
    "mid9 = pd.read_excel(get_path('microbiome/MID9.xls'),header=None,names= [\"Type\",\"Count\"])\n",
    "metadata= pd.read_excel(get_path('microbiome/metadata.xls'))"
   ]
  },
  {
   "cell_type": "code",
   "execution_count": 6,
   "metadata": {
    "id": "9m-irfqASufS"
   },
   "outputs": [],
   "source": [
    "#add the barcode to each of the 9 dataframes, so that you can easily add the metadata columns based on the BARCODE column\n",
    "mid1[\"BARCODE\"] = \"MID1\"\n",
    "mid2[\"BARCODE\"] = \"MID2\"\n",
    "mid3[\"BARCODE\"] = \"MID3\"\n",
    "mid4[\"BARCODE\"] = \"MID4\"\n",
    "mid5[\"BARCODE\"] = \"MID5\"\n",
    "mid6[\"BARCODE\"] = \"MID6\"\n",
    "mid7[\"BARCODE\"] = \"MID7\"\n",
    "mid8[\"BARCODE\"] = \"MID8\"\n",
    "mid9[\"BARCODE\"] = \"MID9\""
   ]
  },
  {
   "cell_type": "code",
   "execution_count": 7,
   "metadata": {},
   "outputs": [
    {
     "data": {
      "text/html": [
       "<div>\n",
       "<style scoped>\n",
       "    .dataframe tbody tr th:only-of-type {\n",
       "        vertical-align: middle;\n",
       "    }\n",
       "\n",
       "    .dataframe tbody tr th {\n",
       "        vertical-align: top;\n",
       "    }\n",
       "\n",
       "    .dataframe thead th {\n",
       "        text-align: right;\n",
       "    }\n",
       "</style>\n",
       "<table border=\"1\" class=\"dataframe\">\n",
       "  <thead>\n",
       "    <tr style=\"text-align: right;\">\n",
       "      <th></th>\n",
       "      <th>Type</th>\n",
       "      <th>Count</th>\n",
       "      <th>BARCODE</th>\n",
       "    </tr>\n",
       "  </thead>\n",
       "  <tbody>\n",
       "    <tr>\n",
       "      <th>0</th>\n",
       "      <td>Archaea \"Crenarchaeota\" Thermoprotei Desulfuro...</td>\n",
       "      <td>7</td>\n",
       "      <td>MID1</td>\n",
       "    </tr>\n",
       "    <tr>\n",
       "      <th>1</th>\n",
       "      <td>Archaea \"Crenarchaeota\" Thermoprotei Desulfuro...</td>\n",
       "      <td>2</td>\n",
       "      <td>MID1</td>\n",
       "    </tr>\n",
       "    <tr>\n",
       "      <th>2</th>\n",
       "      <td>Archaea \"Crenarchaeota\" Thermoprotei Sulfoloba...</td>\n",
       "      <td>3</td>\n",
       "      <td>MID1</td>\n",
       "    </tr>\n",
       "    <tr>\n",
       "      <th>3</th>\n",
       "      <td>Archaea \"Crenarchaeota\" Thermoprotei Thermopro...</td>\n",
       "      <td>3</td>\n",
       "      <td>MID1</td>\n",
       "    </tr>\n",
       "    <tr>\n",
       "      <th>4</th>\n",
       "      <td>Archaea \"Euryarchaeota\" \"Methanomicrobia\" Meth...</td>\n",
       "      <td>7</td>\n",
       "      <td>MID1</td>\n",
       "    </tr>\n",
       "    <tr>\n",
       "      <th>...</th>\n",
       "      <td>...</td>\n",
       "      <td>...</td>\n",
       "      <td>...</td>\n",
       "    </tr>\n",
       "    <tr>\n",
       "      <th>276</th>\n",
       "      <td>Bacteria \"Thermotogae\" Thermotogae Thermotogal...</td>\n",
       "      <td>43</td>\n",
       "      <td>MID9</td>\n",
       "    </tr>\n",
       "    <tr>\n",
       "      <th>277</th>\n",
       "      <td>Bacteria \"Thermotogae\" Thermotogae Thermotogal...</td>\n",
       "      <td>16</td>\n",
       "      <td>MID9</td>\n",
       "    </tr>\n",
       "    <tr>\n",
       "      <th>278</th>\n",
       "      <td>Bacteria \"Verrucomicrobia\" Opitutae Opitutales...</td>\n",
       "      <td>1</td>\n",
       "      <td>MID9</td>\n",
       "    </tr>\n",
       "    <tr>\n",
       "      <th>279</th>\n",
       "      <td>Bacteria Cyanobacteria Cyanobacteria  Chloropl...</td>\n",
       "      <td>1</td>\n",
       "      <td>MID9</td>\n",
       "    </tr>\n",
       "    <tr>\n",
       "      <th>280</th>\n",
       "      <td>Bacteria Cyanobacteria Cyanobacteria  Chloropl...</td>\n",
       "      <td>10</td>\n",
       "      <td>MID9</td>\n",
       "    </tr>\n",
       "  </tbody>\n",
       "</table>\n",
       "<p>2396 rows × 3 columns</p>\n",
       "</div>"
      ],
      "text/plain": [
       "                                                  Type  Count BARCODE\n",
       "0    Archaea \"Crenarchaeota\" Thermoprotei Desulfuro...      7    MID1\n",
       "1    Archaea \"Crenarchaeota\" Thermoprotei Desulfuro...      2    MID1\n",
       "2    Archaea \"Crenarchaeota\" Thermoprotei Sulfoloba...      3    MID1\n",
       "3    Archaea \"Crenarchaeota\" Thermoprotei Thermopro...      3    MID1\n",
       "4    Archaea \"Euryarchaeota\" \"Methanomicrobia\" Meth...      7    MID1\n",
       "..                                                 ...    ...     ...\n",
       "276  Bacteria \"Thermotogae\" Thermotogae Thermotogal...     43    MID9\n",
       "277  Bacteria \"Thermotogae\" Thermotogae Thermotogal...     16    MID9\n",
       "278  Bacteria \"Verrucomicrobia\" Opitutae Opitutales...      1    MID9\n",
       "279  Bacteria Cyanobacteria Cyanobacteria  Chloropl...      1    MID9\n",
       "280  Bacteria Cyanobacteria Cyanobacteria  Chloropl...     10    MID9\n",
       "\n",
       "[2396 rows x 3 columns]"
      ]
     },
     "execution_count": 7,
     "metadata": {},
     "output_type": "execute_result"
    }
   ],
   "source": [
    "all_mid=  pd.concat([mid1,mid2,mid3,mid4,mid5,mid6,mid7,mid8,mid9])\n",
    "all_mid"
   ]
  },
  {
   "cell_type": "code",
   "execution_count": 8,
   "metadata": {
    "id": "A9vVjGzVWZYn"
   },
   "outputs": [
    {
     "data": {
      "text/html": [
       "<div>\n",
       "<style scoped>\n",
       "    .dataframe tbody tr th:only-of-type {\n",
       "        vertical-align: middle;\n",
       "    }\n",
       "\n",
       "    .dataframe tbody tr th {\n",
       "        vertical-align: top;\n",
       "    }\n",
       "\n",
       "    .dataframe thead th {\n",
       "        text-align: right;\n",
       "    }\n",
       "</style>\n",
       "<table border=\"1\" class=\"dataframe\">\n",
       "  <thead>\n",
       "    <tr style=\"text-align: right;\">\n",
       "      <th></th>\n",
       "      <th>Type</th>\n",
       "      <th>Count</th>\n",
       "      <th>BARCODE</th>\n",
       "      <th>GROUP</th>\n",
       "      <th>SAMPLE</th>\n",
       "    </tr>\n",
       "  </thead>\n",
       "  <tbody>\n",
       "    <tr>\n",
       "      <th>0</th>\n",
       "      <td>Archaea \"Crenarchaeota\" Thermoprotei Desulfuro...</td>\n",
       "      <td>7</td>\n",
       "      <td>MID1</td>\n",
       "      <td>EXTRACTION CONTROL</td>\n",
       "      <td>NaN</td>\n",
       "    </tr>\n",
       "    <tr>\n",
       "      <th>1</th>\n",
       "      <td>Archaea \"Crenarchaeota\" Thermoprotei Desulfuro...</td>\n",
       "      <td>2</td>\n",
       "      <td>MID1</td>\n",
       "      <td>EXTRACTION CONTROL</td>\n",
       "      <td>NaN</td>\n",
       "    </tr>\n",
       "    <tr>\n",
       "      <th>2</th>\n",
       "      <td>Archaea \"Crenarchaeota\" Thermoprotei Sulfoloba...</td>\n",
       "      <td>3</td>\n",
       "      <td>MID1</td>\n",
       "      <td>EXTRACTION CONTROL</td>\n",
       "      <td>NaN</td>\n",
       "    </tr>\n",
       "    <tr>\n",
       "      <th>3</th>\n",
       "      <td>Archaea \"Crenarchaeota\" Thermoprotei Thermopro...</td>\n",
       "      <td>3</td>\n",
       "      <td>MID1</td>\n",
       "      <td>EXTRACTION CONTROL</td>\n",
       "      <td>NaN</td>\n",
       "    </tr>\n",
       "    <tr>\n",
       "      <th>4</th>\n",
       "      <td>Archaea \"Euryarchaeota\" \"Methanomicrobia\" Meth...</td>\n",
       "      <td>7</td>\n",
       "      <td>MID1</td>\n",
       "      <td>EXTRACTION CONTROL</td>\n",
       "      <td>NaN</td>\n",
       "    </tr>\n",
       "  </tbody>\n",
       "</table>\n",
       "</div>"
      ],
      "text/plain": [
       "                                                Type  Count BARCODE  \\\n",
       "0  Archaea \"Crenarchaeota\" Thermoprotei Desulfuro...      7    MID1   \n",
       "1  Archaea \"Crenarchaeota\" Thermoprotei Desulfuro...      2    MID1   \n",
       "2  Archaea \"Crenarchaeota\" Thermoprotei Sulfoloba...      3    MID1   \n",
       "3  Archaea \"Crenarchaeota\" Thermoprotei Thermopro...      3    MID1   \n",
       "4  Archaea \"Euryarchaeota\" \"Methanomicrobia\" Meth...      7    MID1   \n",
       "\n",
       "                GROUP SAMPLE  \n",
       "0  EXTRACTION CONTROL    NaN  \n",
       "1  EXTRACTION CONTROL    NaN  \n",
       "2  EXTRACTION CONTROL    NaN  \n",
       "3  EXTRACTION CONTROL    NaN  \n",
       "4  EXTRACTION CONTROL    NaN  "
      ]
     },
     "execution_count": 8,
     "metadata": {},
     "output_type": "execute_result"
    }
   ],
   "source": [
    "# Before we merge the dataframes with the metadata dataframe, let's merge them together\n",
    "merged_data = pd.merge(all_mid,metadata, on = 'BARCODE', how= 'left')\n",
    "merged_data.head()"
   ]
  }
 ],
 "metadata": {
  "colab": {
   "collapsed_sections": [],
   "name": "Lab8 - Data Integration-Solution.ipynb",
   "provenance": [],
   "toc_visible": true
  },
  "kernelspec": {
   "display_name": "Python 3",
   "language": "python",
   "name": "python3"
  },
  "language_info": {
   "codemirror_mode": {
    "name": "ipython",
    "version": 3
   },
   "file_extension": ".py",
   "mimetype": "text/x-python",
   "name": "python",
   "nbconvert_exporter": "python",
   "pygments_lexer": "ipython3",
   "version": "3.8.3"
  }
 },
 "nbformat": 4,
 "nbformat_minor": 4
}
